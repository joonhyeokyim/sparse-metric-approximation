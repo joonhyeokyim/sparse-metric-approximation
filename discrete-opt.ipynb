{
 "cells": [
  {
   "cell_type": "code",
   "execution_count": 11,
   "metadata": {},
   "outputs": [],
   "source": [
    "import numpy as np\n",
    "import matplotlib.pyplot as plt"
   ]
  },
  {
   "cell_type": "code",
   "execution_count": 12,
   "metadata": {},
   "outputs": [],
   "source": [
    "def ngon_distance(x,y,n):\n",
    "    \"\"\"\n",
    "    Computes the distance between two points in regular n-gon.\n",
    "    \"\"\"\n",
    "    x = x % n\n",
    "    y = y % n\n",
    "    if abs(x-y) < n/2:\n",
    "        return abs(x-y)\n",
    "    else:\n",
    "        return (n-abs(x-y))"
   ]
  },
  {
   "cell_type": "code",
   "execution_count": 13,
   "metadata": {},
   "outputs": [],
   "source": [
    "def ngon_distortion_loss(f, n):\n",
    "    \"\"\"\n",
    "    Computes the distortion loss for a regular n-gon. Note that the input f is an array of size [n/2] + 1.\n",
    "    \"\"\"\n",
    "    sum = 0\n",
    "    for i in range(n):\n",
    "        d = min(i, n-i)\n",
    "        sum += (f[d] - d)**2\n",
    "    avg = np.sqrt(sum/n)\n",
    "    return avg**2"
   ]
  },
  {
   "cell_type": "code",
   "execution_count": 14,
   "metadata": {},
   "outputs": [],
   "source": [
    "def ngon_hyperbolicity_loss(f, n):\n",
    "    \"\"\"\n",
    "    Computes the hyperbolicity loss for a regular n-gon. Again, note that the input f is an array of size [n/2] + 1.\n",
    "    \"\"\"\n",
    "    sum = 0\n",
    "    denom = 0\n",
    "    for i in range(n):\n",
    "        for j in range(n):\n",
    "            for k in range(n):\n",
    "                A = f[ngon_distance(i, j, n)] + f[ngon_distance(0, k, n)]\n",
    "                B = f[ngon_distance(i, k, n)] + f[ngon_distance(j, 0, n)]\n",
    "                C = f[ngon_distance(j, k, n)] + f[ngon_distance(0, i, n)]\n",
    "\n",
    "                max_pair = max(A,B,C)\n",
    "                min_pair = min(A,B,C)\n",
    "                med_pair = (A+B+C) - max_pair - min_pair\n",
    "                delta = (max_pair - med_pair)/2\n",
    "                sum += delta**2\n",
    "                denom += 1\n",
    "    avg = np.sqrt(sum/denom)\n",
    "    return avg**2"
   ]
  },
  {
   "cell_type": "code",
   "execution_count": 15,
   "metadata": {},
   "outputs": [],
   "source": [
    "def loss(f, n):\n",
    "    \"\"\"\n",
    "    Computes the loss for a regular n-gon.\n",
    "    \"\"\"\n",
    "    return ngon_distortion_loss(f, n) + ngon_hyperbolicity_loss(f, n)"
   ]
  },
  {
   "cell_type": "code",
   "execution_count": 16,
   "metadata": {},
   "outputs": [],
   "source": [
    "def gradient_vector(f, n, eps=1e-5):\n",
    "    \"\"\"\n",
    "    Computes the gradient vector for a regular n-gon.\n",
    "    \"\"\"\n",
    "    m = len(f)\n",
    "    grad = np.zeros(m)\n",
    "    for i in range(1,m):\n",
    "        f_plus = np.copy(f) + eps * np.eye(m)[i]\n",
    "        f_minus = np.copy(f) - eps * np.eye(m)[i]\n",
    "        grad[i] = (loss(f_plus, n) - loss(f_minus, n))/(2*eps)\n",
    "    return grad\n",
    "        "
   ]
  },
  {
   "cell_type": "code",
   "execution_count": 17,
   "metadata": {},
   "outputs": [
    {
     "name": "stdout",
     "output_type": "stream",
     "text": [
      "Init f\t: [ 0.  1.  2.  3.  4.  5.  6.  7.  8.  9. 10.]\n",
      "Init l\t: 1.3117499999999997\n",
      "f\t: [ 0.  1.  2.  3.  4.  5.  6.  7.  8.  9. 10.]\n",
      "loss\t: 1.3117499999999997\n",
      "f\t: [0.         1.07318109 2.15171287 3.24177828 4.31543779 5.3381634\n",
      " 6.23181039 7.04856284 7.78634747 8.43316066 9.21705891]\n",
      "loss\t: 0.9991915771520195\n",
      "f\t: [0.         1.13777247 2.22665401 3.31642113 4.37678853 5.37459795\n",
      " 6.23407459 7.01261279 7.7097733  8.3156299  8.92783109]\n",
      "loss\t: 0.9719534000861964\n",
      "f\t: [0.         1.16873197 2.25473553 3.33714535 4.38679588 5.37251862\n",
      " 6.22100015 6.98955761 7.6779792  8.27678455 8.8173971 ]\n",
      "loss\t: 0.9681689157590146\n",
      "f\t: [0.         1.18142807 2.26436182 3.34245389 4.38724963 5.36827496\n",
      " 6.21297155 6.97833685 7.66415683 8.26100956 8.7738648 ]\n",
      "loss\t: 0.9675682092023153\n",
      "f\t: [0.         1.18630192 2.26752316 3.34363961 4.38646414 5.3657074\n",
      " 6.20901986 6.97323491 7.65812667 8.25428054 8.75628452]\n",
      "loss\t: 0.9674675635815343\n",
      "f\t: [0.         1.18811162 2.26852961 3.3438129  4.38585695 5.36441519\n",
      " 6.20720024 6.97097616 7.65551166 8.25139375 8.7490649 ]\n",
      "loss\t: 0.9674501929759755\n",
      "f\t: [0.         1.18877175 2.26883954 3.34378195 4.38551711 5.36380734\n",
      " 6.2063861  6.96998952 7.65438425 8.25015794 8.7460666 ]\n",
      "loss\t: 0.9674471391210202\n",
      "f\t: [0.         1.18901036 2.26893062 3.34373489 4.38534692 5.36353067\n",
      " 6.20602733 6.96956186 7.65390014 8.2496301  8.74481205]\n",
      "loss\t: 0.9674465957393243\n",
      "f\t: [0.         1.1890963  2.26895538 3.34370366 4.38526617 5.3634071\n",
      " 6.20587067 6.96937737 7.65369278 8.24940495 8.74428443]\n",
      "loss\t: 0.9674464982811817\n",
      "Final f\t: [0.         1.18912725 2.26896111 3.34368662 4.38522903 5.36335257\n",
      " 6.20580267 6.96929803 7.65360409 8.24930898 8.74406176]\n",
      "Final l\t: 0.9674464807090914\n"
     ]
    }
   ],
   "source": [
    "n_iter = 1000\n",
    "step_size = 0.05\n",
    "n = 20\n",
    "f = np.arange((n+1)/2)\n",
    "# f += 0.1 * np.random.rand(len(f))\n",
    "f[0] = 0\n",
    "print(\"Init f\\t:\", f)\n",
    "print(\"Init l\\t:\", loss(f, n))\n",
    "loss_tape = []\n",
    "for i in range(n_iter):\n",
    "    if(i%100 == 0):\n",
    "        print(\"f\\t:\", f)\n",
    "        print(\"loss\\t:\", loss(f, n))\n",
    "    grad = gradient_vector(f, n)\n",
    "    f = f - step_size * grad\n",
    "    loss_tape.append(loss(f, n))\n",
    "\n",
    "print(\"Final f\\t:\", f)\n",
    "print(\"Final l\\t:\", loss(f, n))"
   ]
  },
  {
   "cell_type": "code",
   "execution_count": 20,
   "metadata": {},
   "outputs": [
    {
     "data": {
      "text/plain": [
       "[<matplotlib.lines.Line2D at 0x7fa769250bb0>]"
      ]
     },
     "execution_count": 20,
     "metadata": {},
     "output_type": "execute_result"
    },
    {
     "data": {
      "image/png": "[encoded data removed]",
      "text/plain": [
       "<Figure size 432x288 with 1 Axes>"
      ]
     },
     "metadata": {
      "needs_background": "light"
     },
     "output_type": "display_data"
    }
   ],
   "source": [
    "plt.plot(loss_tape)"
   ]
  },
  {
   "cell_type": "code",
   "execution_count": 23,
   "metadata": {},
   "outputs": [
    {
     "name": "stdout",
     "output_type": "stream",
     "text": [
      "[0.         1.18912725 2.26896111 3.34368662 4.38522903 5.36335257\n",
      " 6.20580267 6.96929803 7.65360409 8.24930898 8.74406176]\n"
     ]
    },
    {
     "data": {
      "image/png": "[encoded data removed]",
      "text/plain": [
       "<Figure size 432x288 with 1 Axes>"
      ]
     },
     "metadata": {
      "needs_background": "light"
     },
     "output_type": "display_data"
    }
   ],
   "source": [
    "plt.plot(f)\n",
    "plt.plot(np.arange(len(f)))\n",
    "print(f)"
   ]
  },
  {
   "cell_type": "code",
   "execution_count": null,
   "metadata": {},
   "outputs": [],
   "source": []
  }
 ],
 "metadata": {
  "interpreter": {
   "hash": "66990bfa584c1f1368cb45d19324c3cfac238634cceb97fe86610c393ba3a087"
  },
  "kernelspec": {
   "display_name": "Python 3.9.5 ('base')",
   "language": "python",
   "name": "python3"
  },
  "language_info": {
   "codemirror_mode": {
    "name": "ipython",
    "version": 3
   },
   "file_extension": ".py",
   "mimetype": "text/x-python",
   "name": "python",
   "nbconvert_exporter": "python",
   "pygments_lexer": "ipython3",
   "version": "3.9.5"
  },
  "orig_nbformat": 4
 },
 "nbformat": 4,
 "nbformat_minor": 2
}
