{
 "cells": [
  {
   "cell_type": "code",
   "execution_count": 1,
   "metadata": {},
   "outputs": [],
   "source": [
    "import numpy as np\n",
    "import matplotlib.pyplot as plt"
   ]
  },
  {
   "cell_type": "code",
   "execution_count": 2,
   "metadata": {},
   "outputs": [],
   "source": [
    "def cd(x,y):\n",
    "    if abs(x-y) < 1/2:\n",
    "        return 2*(abs(x-y))\n",
    "    else:\n",
    "        return 2*(1-abs(x-y))\n"
   ]
  },
  {
   "cell_type": "code",
   "execution_count": 3,
   "metadata": {},
   "outputs": [],
   "source": [
    "# f:[0,1] -> R which is a distance function (Assume our circle has circumference 2)\n",
    "def f_log(d):\n",
    "    return np.log(1+d)\n",
    "\n",
    "def f_linear(d):\n",
    "    return d\n",
    "\n",
    "def f_sqrt(d):\n",
    "    return np.sqrt(d)\n",
    "\n",
    "def f_constant(d):\n",
    "    return 1/2\n",
    "\n",
    "def f_hyperbolic(r, d):\n",
    "    return np.arccosh(max(np.cosh(r)**2 - np.sinh(r)**2 * np.cos(np.pi*d), 1))/(2*r)"
   ]
  },
  {
   "cell_type": "code",
   "execution_count": 4,
   "metadata": {},
   "outputs": [],
   "source": [
    "def distortion_loss(f, n_iter = 5000, regression = False):\n",
    "    sum = 0\n",
    "    d_tape = []\n",
    "    f_tape = []\n",
    "    for i in range(n_iter):\n",
    "        x = np.random.uniform(0,1)\n",
    "        y = np.random.uniform(0,1)\n",
    "        d_tape.append(cd(x,y))\n",
    "        f_tape.append(f(cd(x,y)))\n",
    "    \n",
    "    if regression:\n",
    "        X2 = np.array(f_tape)**2\n",
    "        XY = np.array(d_tape)*np.array(f_tape)\n",
    "        r = np.sum(XY)/np.sum(X2)\n",
    "        sum = np.sum(np.square(r * np.array(f_tape) - np.array(d_tape)))\n",
    "        avg = np.sqrt(sum/n_iter)\n",
    "        return avg, r\n",
    "    else:\n",
    "        sum = np.sum(np.square(np.array(f_tape) - np.array(d_tape)))\n",
    "        avg = np.sqrt(sum/n_iter)\n",
    "        return avg"
   ]
  },
  {
   "cell_type": "code",
   "execution_count": 5,
   "metadata": {},
   "outputs": [],
   "source": [
    "def hyp_loss(f, n_iter = 5000):\n",
    "    sum = 0\n",
    "    for i in range(n_iter):\n",
    "        x = np.random.uniform(0,1)\n",
    "        y = np.random.uniform(0,1)\n",
    "        z = np.random.uniform(0,1)\n",
    "        w = np.random.uniform(0,1)\n",
    "        \n",
    "        A = f(cd(x,y)) + f(cd(z,w))\n",
    "        B = f(cd(x,z)) + f(cd(y,w))\n",
    "        C = f(cd(x,w)) + f(cd(y,z))\n",
    "\n",
    "        max_pair = max(A,B,C)\n",
    "        min_pair = min(A,B,C)\n",
    "        med_pair = (A+B+C) - max_pair - min_pair\n",
    "\n",
    "        delta = (max_pair - med_pair)/2\n",
    "        sum += delta**2\n",
    "    avg = np.sqrt(sum/n_iter)\n",
    "    return avg"
   ]
  },
  {
   "cell_type": "code",
   "execution_count": 6,
   "metadata": {},
   "outputs": [
    {
     "name": "stdout",
     "output_type": "stream",
     "text": [
      "Dist Loss\t: 0.14617483580602136\n",
      "Hyp Loss\t: 0.06810359717235638\n",
      "-----------------------------------------------------\n",
      "Dist Loss\t: 0.0\n",
      "Hyp Loss\t: 0.11147100377538283\n",
      "-----------------------------------------------------\n",
      "Dist Loss\t: 0.1819619047495686\n",
      "Hyp Loss\t: 0.07414758500385508\n",
      "-----------------------------------------------------\n",
      "Dist Loss\t: 0.28959016611082083\n",
      "Hyp Loss\t: 0.0\n"
     ]
    }
   ],
   "source": [
    "print(\"Dist Loss\\t:\", distortion_loss(f_log))\n",
    "print(\"Hyp Loss\\t:\", hyp_loss(f_log))\n",
    "print('-----------------------------------------------------')\n",
    "print(\"Dist Loss\\t:\", distortion_loss(f_linear))\n",
    "print(\"Hyp Loss\\t:\", hyp_loss(f_linear))\n",
    "print('-----------------------------------------------------')\n",
    "print(\"Dist Loss\\t:\", distortion_loss(f_sqrt))\n",
    "print(\"Hyp Loss\\t:\", hyp_loss(f_sqrt))\n",
    "print('-----------------------------------------------------')\n",
    "print(\"Dist Loss\\t:\", distortion_loss(f_constant))\n",
    "print(\"Hyp Loss\\t:\", hyp_loss(f_constant))"
   ]
  },
  {
   "cell_type": "code",
   "execution_count": 7,
   "metadata": {},
   "outputs": [
    {
     "name": "stdout",
     "output_type": "stream",
     "text": [
      "r =  0.05 Dist Loss\t: 0.070250124002421 Hyp Loss\t: 0.07657700978949242 Coeff\t: 0.8119288037692286\n",
      "r =  0.1 Dist Loss\t: 0.06832788243005851 Hyp Loss\t: 0.0775642731293542 Coeff\t: 0.8078375051350261\n",
      "r =  0.15 Dist Loss\t: 0.07071641503226718 Hyp Loss\t: 0.07650637040820159 Coeff\t: 0.8135867883353328\n",
      "r =  0.2 Dist Loss\t: 0.07026980739064434 Hyp Loss\t: 0.0776221331281424 Coeff\t: 0.808676740049785\n",
      "r =  0.25 Dist Loss\t: 0.06988275759044153 Hyp Loss\t: 0.07585123189252974 Coeff\t: 0.8077870388980322\n",
      "r =  0.3 Dist Loss\t: 0.07145055030775568 Hyp Loss\t: 0.07551596145266584 Coeff\t: 0.807602792340249\n",
      "r =  0.35 Dist Loss\t: 0.07138201655372672 Hyp Loss\t: 0.07601670217460603 Coeff\t: 0.8053039625998697\n",
      "r =  0.4 Dist Loss\t: 0.07342157470731026 Hyp Loss\t: 0.07463021898241211 Coeff\t: 0.8064904112038411\n",
      "r =  0.45 Dist Loss\t: 0.07421628103673009 Hyp Loss\t: 0.07505769032483302 Coeff\t: 0.8036071936329475\n",
      "r =  0.5 Dist Loss\t: 0.07452974130603493 Hyp Loss\t: 0.07356096831994186 Coeff\t: 0.7999624590753786\n",
      "r =  0.55 Dist Loss\t: 0.07615451722490904 Hyp Loss\t: 0.07383414945230675 Coeff\t: 0.7986383304254597\n",
      "r =  0.6 Dist Loss\t: 0.07781931361049166 Hyp Loss\t: 0.07366656044414527 Coeff\t: 0.7965633086014303\n",
      "r =  0.65 Dist Loss\t: 0.07943593478264105 Hyp Loss\t: 0.07318489825893333 Coeff\t: 0.7979369612432815\n",
      "r =  0.7 Dist Loss\t: 0.0801908865537875 Hyp Loss\t: 0.0723788718124481 Coeff\t: 0.7943453545858555\n",
      "r =  0.75 Dist Loss\t: 0.08055601554154766 Hyp Loss\t: 0.07201630913758646 Coeff\t: 0.7937463840828529\n",
      "r =  0.8 Dist Loss\t: 0.08306063619371144 Hyp Loss\t: 0.07032933727854064 Coeff\t: 0.7896484521642864\n",
      "r =  0.85 Dist Loss\t: 0.08454725162497093 Hyp Loss\t: 0.07064920638564014 Coeff\t: 0.7871935632890339\n",
      "r =  0.9 Dist Loss\t: 0.08513137049910452 Hyp Loss\t: 0.06910284289677406 Coeff\t: 0.7833822613364384\n",
      "r =  0.95 Dist Loss\t: 0.08822414843694797 Hyp Loss\t: 0.06856777351823114 Coeff\t: 0.7834243501457544\n",
      "r =  1.0 Dist Loss\t: 0.08871679345759213 Hyp Loss\t: 0.0661835029465208 Coeff\t: 0.7783759667796174\n",
      "r =  1.05 Dist Loss\t: 0.08983259194660272 Hyp Loss\t: 0.06595518548442934 Coeff\t: 0.7749142203277276\n",
      "r =  1.1 Dist Loss\t: 0.09384976110464542 Hyp Loss\t: 0.06704785742416228 Coeff\t: 0.7745849327528624\n",
      "r =  1.15 Dist Loss\t: 0.09518297313611952 Hyp Loss\t: 0.06637763693410349 Coeff\t: 0.7713016265723805\n",
      "r =  1.2 Dist Loss\t: 0.09660105084668892 Hyp Loss\t: 0.06494826152858553 Coeff\t: 0.7670732349002001\n",
      "r =  1.25 Dist Loss\t: 0.09842952193283187 Hyp Loss\t: 0.06519346352186584 Coeff\t: 0.7628196358231741\n",
      "r =  1.3 Dist Loss\t: 0.09987392299396669 Hyp Loss\t: 0.06283205176455904 Coeff\t: 0.7608950665010942\n",
      "r =  1.35 Dist Loss\t: 0.10268855014399715 Hyp Loss\t: 0.06315668735474872 Coeff\t: 0.7604499927011746\n",
      "r =  1.4 Dist Loss\t: 0.10396721041830963 Hyp Loss\t: 0.061924958297940653 Coeff\t: 0.754157782922256\n",
      "r =  1.45 Dist Loss\t: 0.1044624265732299 Hyp Loss\t: 0.060081584117331166 Coeff\t: 0.7508229608468794\n",
      "r =  1.5 Dist Loss\t: 0.11000935043509498 Hyp Loss\t: 0.05996861940755453 Coeff\t: 0.7478208741962153\n",
      "r =  1.55 Dist Loss\t: 0.10995574005851518 Hyp Loss\t: 0.059741052258327126 Coeff\t: 0.7438252803468683\n",
      "r =  1.6 Dist Loss\t: 0.11213898803327563 Hyp Loss\t: 0.05852568904207572 Coeff\t: 0.7447286521386342\n",
      "r =  1.65 Dist Loss\t: 0.11450166554058722 Hyp Loss\t: 0.057157441997973756 Coeff\t: 0.7385014229992831\n",
      "r =  1.7 Dist Loss\t: 0.11812504998823875 Hyp Loss\t: 0.05627700121366127 Coeff\t: 0.7382993826223522\n",
      "r =  1.75 Dist Loss\t: 0.11888751700848192 Hyp Loss\t: 0.0553580651573276 Coeff\t: 0.7383923403334622\n",
      "r =  1.8 Dist Loss\t: 0.12123295545730697 Hyp Loss\t: 0.05475471691883608 Coeff\t: 0.7336158277879987\n",
      "r =  1.85 Dist Loss\t: 0.12197827724668003 Hyp Loss\t: 0.053098961501728985 Coeff\t: 0.727545324345825\n",
      "r =  1.9 Dist Loss\t: 0.12474465039184716 Hyp Loss\t: 0.05173927330753167 Coeff\t: 0.7244407462636494\n",
      "r =  1.95 Dist Loss\t: 0.12619078935357628 Hyp Loss\t: 0.05213104180296129 Coeff\t: 0.7224614527578631\n",
      "r =  2.0 Dist Loss\t: 0.1307290999003976 Hyp Loss\t: 0.05098236505018489 Coeff\t: 0.7220971440811095\n",
      "r =  2.05 Dist Loss\t: 0.13071548835211394 Hyp Loss\t: 0.04951652776798375 Coeff\t: 0.7164199190495883\n",
      "r =  2.1 Dist Loss\t: 0.13252331829045444 Hyp Loss\t: 0.049212003212510055 Coeff\t: 0.7161763577440953\n",
      "r =  2.15 Dist Loss\t: 0.13577105044467663 Hyp Loss\t: 0.049002762777310735 Coeff\t: 0.7125489169892827\n",
      "r =  2.2 Dist Loss\t: 0.13861666290855817 Hyp Loss\t: 0.0475049129718867 Coeff\t: 0.7119383040080645\n",
      "r =  2.25 Dist Loss\t: 0.13692283481393155 Hyp Loss\t: 0.04729179106423785 Coeff\t: 0.7060651067809768\n",
      "r =  2.3 Dist Loss\t: 0.1411733880245773 Hyp Loss\t: 0.04641794295540011 Coeff\t: 0.7027925499411024\n",
      "r =  2.35 Dist Loss\t: 0.14267885275452155 Hyp Loss\t: 0.04557609870734768 Coeff\t: 0.7034272186290222\n",
      "r =  2.4 Dist Loss\t: 0.14366966538816708 Hyp Loss\t: 0.04486965904637313 Coeff\t: 0.7007563398940126\n",
      "r =  2.45 Dist Loss\t: 0.14515716606265147 Hyp Loss\t: 0.04403678133538406 Coeff\t: 0.6935781093310522\n",
      "r =  2.5 Dist Loss\t: 0.14756170206930608 Hyp Loss\t: 0.04248725549417667 Coeff\t: 0.6936091689845563\n",
      "r =  2.55 Dist Loss\t: 0.15012638061236608 Hyp Loss\t: 0.042688933830658984 Coeff\t: 0.6900352859878701\n",
      "r =  2.6 Dist Loss\t: 0.1525388529713467 Hyp Loss\t: 0.04117639495134905 Coeff\t: 0.688158718103969\n",
      "r =  2.65 Dist Loss\t: 0.1531978761941481 Hyp Loss\t: 0.04064626138045868 Coeff\t: 0.68638563759392\n",
      "r =  2.7 Dist Loss\t: 0.15568210098568347 Hyp Loss\t: 0.03981938209160264 Coeff\t: 0.6840569698860016\n",
      "r =  2.75 Dist Loss\t: 0.1557889448473157 Hyp Loss\t: 0.03881427762933446 Coeff\t: 0.6793411051939245\n",
      "r =  2.8 Dist Loss\t: 0.15849650430949483 Hyp Loss\t: 0.038844853585983316 Coeff\t: 0.6773784727523606\n",
      "r =  2.85 Dist Loss\t: 0.16076014473864406 Hyp Loss\t: 0.03814865350633226 Coeff\t: 0.6737902154915063\n",
      "r =  2.9 Dist Loss\t: 0.16176854603034901 Hyp Loss\t: 0.037395372418237066 Coeff\t: 0.6720281252056262\n",
      "r =  2.95 Dist Loss\t: 0.16308090201635836 Hyp Loss\t: 0.03691828049852447 Coeff\t: 0.6706940755519333\n",
      "r =  3.0 Dist Loss\t: 0.1640571750128422 Hyp Loss\t: 0.03638549421891268 Coeff\t: 0.6697574919187351\n",
      "r =  3.05 Dist Loss\t: 0.16598152822841836 Hyp Loss\t: 0.03573109493159693 Coeff\t: 0.6698853839126586\n",
      "r =  3.1 Dist Loss\t: 0.17046421280058807 Hyp Loss\t: 0.03514478215010263 Coeff\t: 0.6659677153720477\n",
      "r =  3.15 Dist Loss\t: 0.1674269624535101 Hyp Loss\t: 0.0342627263752901 Coeff\t: 0.655724527951464\n",
      "r =  3.2 Dist Loss\t: 0.17159301542937463 Hyp Loss\t: 0.03414961633747124 Coeff\t: 0.6654932886527772\n",
      "r =  3.25 Dist Loss\t: 0.173667041773066 Hyp Loss\t: 0.03303007702200415 Coeff\t: 0.6594475883959285\n",
      "r =  3.3 Dist Loss\t: 0.1748880916972778 Hyp Loss\t: 0.03329933953187808 Coeff\t: 0.6615976800318484\n",
      "r =  3.35 Dist Loss\t: 0.17476038150282744 Hyp Loss\t: 0.03194696816655305 Coeff\t: 0.6553303387394966\n",
      "r =  3.4 Dist Loss\t: 0.17451743296714736 Hyp Loss\t: 0.032300325378233095 Coeff\t: 0.6573915818935093\n",
      "r =  3.45 Dist Loss\t: 0.17761571354405614 Hyp Loss\t: 0.03145290456576429 Coeff\t: 0.6575329837228542\n",
      "r =  3.5 Dist Loss\t: 0.17914398752437716 Hyp Loss\t: 0.030681465118284675 Coeff\t: 0.6513446265395965\n",
      "r =  3.55 Dist Loss\t: 0.18038778368560981 Hyp Loss\t: 0.030606626496476542 Coeff\t: 0.6476796620259683\n",
      "r =  3.6 Dist Loss\t: 0.18340258913680751 Hyp Loss\t: 0.030018596856999983 Coeff\t: 0.6487627373992295\n",
      "r =  3.65 Dist Loss\t: 0.18184634412235337 Hyp Loss\t: 0.029678031524392263 Coeff\t: 0.6459029975483366\n",
      "r =  3.7 Dist Loss\t: 0.18407932830852347 Hyp Loss\t: 0.029247722614075256 Coeff\t: 0.6422307731339003\n",
      "r =  3.75 Dist Loss\t: 0.18825866144264147 Hyp Loss\t: 0.028631204911662784 Coeff\t: 0.6418325951299111\n",
      "r =  3.8 Dist Loss\t: 0.18430583242467075 Hyp Loss\t: 0.027768769004115554 Coeff\t: 0.6392628828928486\n",
      "r =  3.85 Dist Loss\t: 0.18991294771700398 Hyp Loss\t: 0.02760753717565535 Coeff\t: 0.6390578856540533\n",
      "r =  3.9 Dist Loss\t: 0.18942622789649538 Hyp Loss\t: 0.02765701515797292 Coeff\t: 0.6379114253448241\n",
      "r =  3.95 Dist Loss\t: 0.1914951826941365 Hyp Loss\t: 0.02744197486987762 Coeff\t: 0.6386301750345164\n",
      "r =  4.0 Dist Loss\t: 0.18935564786767753 Hyp Loss\t: 0.02668663109109598 Coeff\t: 0.631732437656917\n",
      "r =  4.05 Dist Loss\t: 0.1925993315188411 Hyp Loss\t: 0.025900563386638605 Coeff\t: 0.6280857374842084\n",
      "r =  4.1 Dist Loss\t: 0.19386436462815088 Hyp Loss\t: 0.02564209002234253 Coeff\t: 0.6344661345648918\n",
      "r =  4.15 Dist Loss\t: 0.19585088976541734 Hyp Loss\t: 0.026002096625689263 Coeff\t: 0.6365526074511935\n",
      "r =  4.2 Dist Loss\t: 0.1959077182569077 Hyp Loss\t: 0.024969378562874407 Coeff\t: 0.6268657138105111\n",
      "r =  4.25 Dist Loss\t: 0.19795301650981112 Hyp Loss\t: 0.025059496730474126 Coeff\t: 0.6297692922475218\n",
      "r =  4.3 Dist Loss\t: 0.19665674688733406 Hyp Loss\t: 0.024776340177933127 Coeff\t: 0.628024265241051\n",
      "r =  4.35 Dist Loss\t: 0.1987084438711964 Hyp Loss\t: 0.024481913696808928 Coeff\t: 0.6250797829890343\n",
      "r =  4.4 Dist Loss\t: 0.19951553394866164 Hyp Loss\t: 0.023800053719487124 Coeff\t: 0.6147548308733839\n",
      "r =  4.45 Dist Loss\t: 0.20168720141301508 Hyp Loss\t: 0.023809559821924006 Coeff\t: 0.6249934268782004\n",
      "r =  4.5 Dist Loss\t: 0.20068103944330137 Hyp Loss\t: 0.02319532556234929 Coeff\t: 0.6196629720729047\n",
      "r =  4.55 Dist Loss\t: 0.20166886436237644 Hyp Loss\t: 0.023450571654964256 Coeff\t: 0.6241472400487281\n",
      "r =  4.6 Dist Loss\t: 0.2022650986539589 Hyp Loss\t: 0.02298590751666706 Coeff\t: 0.6172091550388343\n",
      "r =  4.65 Dist Loss\t: 0.2050445536703248 Hyp Loss\t: 0.022527601404387865 Coeff\t: 0.6156567306540494\n",
      "r =  4.7 Dist Loss\t: 0.20505922092394246 Hyp Loss\t: 0.022184453069966935 Coeff\t: 0.6139926610189842\n",
      "r =  4.75 Dist Loss\t: 0.20723246155596786 Hyp Loss\t: 0.02190401069929309 Coeff\t: 0.6151529495856196\n",
      "r =  4.8 Dist Loss\t: 0.20714048363871992 Hyp Loss\t: 0.02164422673780184 Coeff\t: 0.6162701980916299\n",
      "r =  4.85 Dist Loss\t: 0.20847990649850912 Hyp Loss\t: 0.021739399131608793 Coeff\t: 0.6150200832132486\n",
      "r =  4.9 Dist Loss\t: 0.2074476556917748 Hyp Loss\t: 0.021101466717577847 Coeff\t: 0.6124452763565744\n",
      "r =  4.95 Dist Loss\t: 0.21019123750481317 Hyp Loss\t: 0.021046836999936147 Coeff\t: 0.6116431525773943\n",
      "r =  5.0 Dist Loss\t: 0.20818646415438471 Hyp Loss\t: 0.02059376347632596 Coeff\t: 0.6002249187286269\n"
     ]
    }
   ],
   "source": [
    "dist_loss_tape = []\n",
    "hyp_loss_tape = []\n",
    "coeff_tape = []\n",
    "r_tape = np.arange(1, 101)/20\n",
    "for r in r_tape:\n",
    "    d_loss, coeff = distortion_loss(lambda d: f_hyperbolic(r, d), regression = True)\n",
    "    h_loss = coeff * hyp_loss(lambda d: f_hyperbolic(r, d))\n",
    "    dist_loss_tape.append(d_loss)\n",
    "    hyp_loss_tape.append(h_loss)\n",
    "    coeff_tape.append(coeff)\n",
    "    print(\"r = \", r, \"Dist Loss\\t:\", d_loss, \"Hyp Loss\\t:\", h_loss, \"Coeff\\t:\", coeff)"
   ]
  },
  {
   "cell_type": "code",
   "execution_count": 8,
   "metadata": {},
   "outputs": [
    {
     "data": {
      "text/plain": [
       "<matplotlib.legend.Legend at 0x7ff558a487f0>"
      ]
     },
     "execution_count": 8,
     "metadata": {},
     "output_type": "execute_result"
    },
    {
     "data": {
      "image/png": "[encoded data removed]",
      "text/plain": [
       "<Figure size 432x288 with 1 Axes>"
      ]
     },
     "metadata": {
      "needs_background": "light"
     },
     "output_type": "display_data"
    }
   ],
   "source": [
    "plt.plot(np.arange(1,101)/20, dist_loss_tape, label = \"Distortion Loss\")\n",
    "plt.plot(np.arange(1,101)/20, hyp_loss_tape, label = \"Hyperbolic Loss\")\n",
    "# plt.plot(np.arange(1,101)/50, coeff_tape, label = \"Coefficient\")\n",
    "plt.legend()"
   ]
  },
  {
   "cell_type": "code",
   "execution_count": 9,
   "metadata": {},
   "outputs": [
    {
     "data": {
      "text/plain": [
       "[<matplotlib.lines.Line2D at 0x7ff558b1aa60>]"
      ]
     },
     "execution_count": 9,
     "metadata": {},
     "output_type": "execute_result"
    },
    {
     "data": {
      "image/png": "[encoded data removed]",
      "text/plain": [
       "<Figure size 432x288 with 1 Axes>"
      ]
     },
     "metadata": {
      "needs_background": "light"
     },
     "output_type": "display_data"
    }
   ],
   "source": [
    "plt.plot(np.arange(1,101)/20, np.array(dist_loss_tape) + 2.5 * np.array(hyp_loss_tape), label = \"Distortion Loss\")"
   ]
  }
 ],
 "metadata": {
  "interpreter": {
   "hash": "66990bfa584c1f1368cb45d19324c3cfac238634cceb97fe86610c393ba3a087"
  },
  "kernelspec": {
   "display_name": "Python 3.8.9 64-bit",
   "language": "python",
   "name": "python3"
  },
  "language_info": {
   "codemirror_mode": {
    "name": "ipython",
    "version": 3
   },
   "file_extension": ".py",
   "mimetype": "text/x-python",
   "name": "python",
   "nbconvert_exporter": "python",
   "pygments_lexer": "ipython3",
   "version": "3.9.5"
  },
  "orig_nbformat": 4
 },
 "nbformat": 4,
 "nbformat_minor": 2
}
